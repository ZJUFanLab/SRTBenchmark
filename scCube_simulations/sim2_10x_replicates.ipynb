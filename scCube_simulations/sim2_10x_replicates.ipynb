{
 "cells": [
  {
   "cell_type": "code",
   "execution_count": 1,
   "id": "b12a8e0f-fe4a-428a-adb2-d864017d5d52",
   "metadata": {
    "execution": {
     "iopub.execute_input": "2025-02-18T04:41:03.596234Z",
     "iopub.status.busy": "2025-02-18T04:41:03.595229Z",
     "iopub.status.idle": "2025-02-18T04:41:06.265817Z",
     "shell.execute_reply": "2025-02-18T04:41:06.264906Z",
     "shell.execute_reply.started": "2025-02-18T04:41:03.596169Z"
    }
   },
   "outputs": [],
   "source": [
    "import scCube\n",
    "from scCube import scCube\n",
    "from scCube.visualization import *\n",
    "from scCube.utils import *\n",
    "from matplotlib.pyplot import rc_context\n",
    "import pandas as pd\n",
    "import scanpy as sc\n",
    "import numpy as np\n",
    "import warnings\n",
    "import time\n",
    "warnings.filterwarnings(\"ignore\")"
   ]
  },
  {
   "cell_type": "code",
   "execution_count": 2,
   "id": "04faf56d-c9ae-4505-a3db-0ed3dd750c68",
   "metadata": {
    "execution": {
     "iopub.execute_input": "2025-02-18T04:41:10.747484Z",
     "iopub.status.busy": "2025-02-18T04:41:10.746924Z",
     "iopub.status.idle": "2025-02-18T04:41:10.751091Z",
     "shell.execute_reply": "2025-02-18T04:41:10.750497Z",
     "shell.execute_reply.started": "2025-02-18T04:41:10.747459Z"
    }
   },
   "outputs": [],
   "source": [
    "model = scCube()"
   ]
  },
  {
   "cell_type": "code",
   "execution_count": 3,
   "id": "ac13a186-20ec-4cf1-96d6-97878987e373",
   "metadata": {
    "execution": {
     "iopub.execute_input": "2025-02-18T04:44:23.819423Z",
     "iopub.status.busy": "2025-02-18T04:44:23.818650Z",
     "iopub.status.idle": "2025-02-18T04:44:23.823843Z",
     "shell.execute_reply": "2025-02-18T04:44:23.823034Z",
     "shell.execute_reply.started": "2025-02-18T04:44:23.819382Z"
    }
   },
   "outputs": [],
   "source": [
    "import os\n",
    "new_directory = \"/slurm/home/yrd/liaolab/chenrenjie/R_dataset/\"\n",
    "os.chdir(new_directory)"
   ]
  },
  {
   "cell_type": "code",
   "execution_count": 4,
   "id": "1b193eb0-e689-4d48-a6ff-7df2d2d503a7",
   "metadata": {
    "execution": {
     "iopub.execute_input": "2025-02-18T04:44:25.655819Z",
     "iopub.status.busy": "2025-02-18T04:44:25.655097Z",
     "iopub.status.idle": "2025-02-18T04:45:40.615155Z",
     "shell.execute_reply": "2025-02-18T04:45:40.614419Z",
     "shell.execute_reply.started": "2025-02-18T04:44:25.655783Z"
    }
   },
   "outputs": [
    {
     "name": "stdout",
     "output_type": "stream",
     "text": [
      "the input is count matrix, normalizing it firstly...\n"
     ]
    }
   ],
   "source": [
    "train_sample = '151673'\n",
    "train_data = pd.read_csv(f\"./DLPFC/{train_sample}/data.csv\", index_col = 0)\n",
    "train_meta = pd.read_csv(f\"./DLPFC/{train_sample}/meta.csv\", index_col = 0)\n",
    "train_adata = model.pre_process(\n",
    "    sc_data=train_data.T, \n",
    "    sc_meta=train_meta,\n",
    "    is_normalized=False\n",
    "    )\n",
    "train_adata.obs['spot'] = train_adata.obs.index\n",
    "train_adata.layers['data'] = train_adata.X"
   ]
  },
  {
   "cell_type": "code",
   "execution_count": 5,
   "id": "a5f1b6a7-a730-4d90-a7f7-80a6cbcce6ec",
   "metadata": {
    "execution": {
     "iopub.execute_input": "2025-02-18T04:46:30.175058Z",
     "iopub.status.busy": "2025-02-18T04:46:30.174335Z",
     "iopub.status.idle": "2025-02-18T04:47:45.471149Z",
     "shell.execute_reply": "2025-02-18T04:47:45.470445Z",
     "shell.execute_reply.started": "2025-02-18T04:46:30.175011Z"
    }
   },
   "outputs": [
    {
     "name": "stdout",
     "output_type": "stream",
     "text": [
      "the input is count matrix, normalizing it firstly...\n"
     ]
    }
   ],
   "source": [
    "spatial_sample = '151674'\n",
    "sp_data = pd.read_csv(f\"./DLPFC/{spatial_sample}/data.csv\", index_col = 0)\n",
    "sp_meta = pd.read_csv(f\"./DLPFC/{spatial_sample}/meta.csv\", index_col = 0)\n",
    "sp_adata = model.pre_process(\n",
    "    sc_data=sp_data.T, \n",
    "    sc_meta=sp_meta,\n",
    "    is_normalized=False\n",
    "    )\n",
    "sp_adata.obs['spot'] = sp_adata.obs.index\n",
    "sp_adata.layers['data'] = sp_adata.X"
   ]
  },
  {
   "cell_type": "code",
   "execution_count": 10,
   "id": "f00bb8b6-0d67-45ec-ad11-a034ea52729a",
   "metadata": {
    "execution": {
     "iopub.execute_input": "2025-02-18T04:49:46.361358Z",
     "iopub.status.busy": "2025-02-18T04:49:46.360808Z",
     "iopub.status.idle": "2025-02-18T04:49:46.365929Z",
     "shell.execute_reply": "2025-02-18T04:49:46.365011Z",
     "shell.execute_reply.started": "2025-02-18T04:49:46.361317Z"
    },
    "tags": []
   },
   "outputs": [],
   "source": [
    "save_path = \"/slurm/home/yrd/liaolab/chenrenjie/Benchmark/Simulations/\"\n",
    "os.chdir(save_path)"
   ]
  },
  {
   "cell_type": "code",
   "execution_count": 11,
   "id": "ad95ebf5-10b3-49a3-95bb-be67c969db34",
   "metadata": {
    "execution": {
     "iopub.execute_input": "2025-02-18T04:49:47.201879Z",
     "iopub.status.busy": "2025-02-18T04:49:47.201214Z",
     "iopub.status.idle": "2025-02-18T04:50:50.153139Z",
     "shell.execute_reply": "2025-02-18T04:50:50.152403Z",
     "shell.execute_reply.started": "2025-02-18T04:49:47.201842Z"
    },
    "tags": []
   },
   "outputs": [
    {
     "name": "stdout",
     "output_type": "stream",
     "text": [
      "generating by the targeted proportion of cell types...\n",
      "loading model from ./DLPFC_151673train.pth\n",
      "vae loading done!\n"
     ]
    },
    {
     "name": "stderr",
     "output_type": "stream",
     "text": [
      "Generate Epoch: 1: 100%|██████████| 3635/3635 [00:01<00:00, 2090.11it/s]\n"
     ]
    },
    {
     "name": "stdout",
     "output_type": "stream",
     "text": [
      "generated done!\n",
      "data have been prepared!\n"
     ]
    }
   ],
   "source": [
    "generate_sc_meta, generate_sc_data = model.load_vae_and_generate_cell(\n",
    "    sc_adata=train_adata,\n",
    "    celltype_key='ground_truth',\n",
    "    cell_key='spot',\n",
    "    target_num=dict(sp_adata.obs.ground_truth.value_counts()),\n",
    "    hidden_size=128,\n",
    "    load_path=\"./DLPFC_151673train.pth\",\n",
    "    used_device='cuda:0')\n",
    "generate_sc_data, generate_sc_meta = model.generate_pattern_reference(\n",
    "        sc_adata=sp_adata,\n",
    "        generate_sc_data=generate_sc_data,\n",
    "        generate_sc_meta=generate_sc_meta,\n",
    "        celltype_key='ground_truth',\n",
    "        spatial_key=['imagecol', 'imagerow'],\n",
    "        cost_metric='sqeuclidean'\n",
    ")\n",
    "generate_sc_data.to_csv(f\"{save_path}/data.csv\")\n",
    "generate_sc_meta.to_csv(f\"{save_path}/meta.csv\")"
   ]
  },
  {
   "cell_type": "code",
   "execution_count": null,
   "id": "cd5e97eb-a23e-4f8f-b8b1-88d6309fbccf",
   "metadata": {},
   "outputs": [],
   "source": []
  }
 ],
 "metadata": {
  "kernelspec": {
   "display_name": "ScCube",
   "language": "python",
   "name": "sccube"
  },
  "language_info": {
   "codemirror_mode": {
    "name": "ipython",
    "version": 3
   },
   "file_extension": ".py",
   "mimetype": "text/x-python",
   "name": "python",
   "nbconvert_exporter": "python",
   "pygments_lexer": "ipython3",
   "version": "3.8.18"
  }
 },
 "nbformat": 4,
 "nbformat_minor": 5
}
