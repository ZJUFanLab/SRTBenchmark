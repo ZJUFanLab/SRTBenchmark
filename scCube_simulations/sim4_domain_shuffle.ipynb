{
 "cells": [
  {
   "cell_type": "code",
   "execution_count": 1,
   "id": "6838da27-5933-44d9-bebf-29170d6a0b6f",
   "metadata": {
    "execution": {
     "iopub.execute_input": "2025-02-18T05:16:31.223556Z",
     "iopub.status.busy": "2025-02-18T05:16:31.223074Z",
     "iopub.status.idle": "2025-02-18T05:16:33.744541Z",
     "shell.execute_reply": "2025-02-18T05:16:33.743808Z",
     "shell.execute_reply.started": "2025-02-18T05:16:31.223533Z"
    }
   },
   "outputs": [],
   "source": [
    "import scCube\n",
    "from scCube import scCube\n",
    "from scCube.visualization import *\n",
    "from scCube.utils import *\n",
    "from pathlib import Path\n",
    "from matplotlib.pyplot import rc_context\n",
    "import pandas as pd\n",
    "import scanpy as sc\n",
    "import numpy as np\n",
    "import warnings\n",
    "import time\n",
    "warnings.filterwarnings(\"ignore\")"
   ]
  },
  {
   "cell_type": "code",
   "execution_count": 2,
   "id": "2749bf39-dd8c-4195-9ca9-e709e407e179",
   "metadata": {
    "execution": {
     "iopub.execute_input": "2025-02-18T05:16:33.746265Z",
     "iopub.status.busy": "2025-02-18T05:16:33.745735Z",
     "iopub.status.idle": "2025-02-18T05:16:33.749016Z",
     "shell.execute_reply": "2025-02-18T05:16:33.748537Z",
     "shell.execute_reply.started": "2025-02-18T05:16:33.746245Z"
    }
   },
   "outputs": [],
   "source": [
    "model = scCube()"
   ]
  },
  {
   "cell_type": "code",
   "execution_count": 4,
   "id": "d721e0f5-db7f-4490-bc2c-40a2ad8d4cfb",
   "metadata": {
    "execution": {
     "iopub.execute_input": "2025-02-18T05:16:58.277302Z",
     "iopub.status.busy": "2025-02-18T05:16:58.276826Z",
     "iopub.status.idle": "2025-02-18T05:18:13.934586Z",
     "shell.execute_reply": "2025-02-18T05:18:13.933971Z",
     "shell.execute_reply.started": "2025-02-18T05:16:58.277282Z"
    }
   },
   "outputs": [
    {
     "name": "stdout",
     "output_type": "stream",
     "text": [
      "the input is count matrix, normalizing it firstly...\n"
     ]
    }
   ],
   "source": [
    "train_sample = '151673'\n",
    "sc_data = pd.read_csv(f\"./DLPFC/{train_sample}/data.csv\", index_col = 0)\n",
    "sc_meta = pd.read_csv(f\"./DLPFC/{train_sample}/meta.csv\", index_col = 0)\n",
    "adata = model.pre_process(\n",
    "    sc_data=sc_data.T, \n",
    "    sc_meta=sc_meta,\n",
    "    is_normalized=False\n",
    "    )\n",
    "coor_df = adata.obs[[\"imagecol\",\"imagerow\"]]\n",
    "adata.obsm[\"spatial\"] = coor_df.to_numpy()\n",
    "adata.obs['spot'] = adata.obs.index\n",
    "adata.layers[\"data\"] = adata.X"
   ]
  },
  {
   "cell_type": "code",
   "execution_count": 11,
   "id": "73f4ffc7-7abe-434f-a20b-f760838a6a54",
   "metadata": {
    "execution": {
     "iopub.execute_input": "2025-02-18T05:24:46.964830Z",
     "iopub.status.busy": "2025-02-18T05:24:46.964536Z",
     "iopub.status.idle": "2025-02-18T05:24:46.968686Z",
     "shell.execute_reply": "2025-02-18T05:24:46.968249Z",
     "shell.execute_reply.started": "2025-02-18T05:24:46.964810Z"
    },
    "tags": []
   },
   "outputs": [],
   "source": [
    "import random\n",
    "def generate_list(raw_list, num):\n",
    "    selected_clusters = random.sample(raw_list, num)\n",
    "    count_list = []\n",
    "    free_cluster = len(raw_list) - num\n",
    "    for i in range(num):\n",
    "        if i == num - 1:\n",
    "            random_count = free_cluster\n",
    "        else:\n",
    "            random_count = random.randint(0, free_cluster)\n",
    "        count_list.append(1 + random_count)\n",
    "        free_cluster -= random_count\n",
    "    result_list = []\n",
    "    for cluster, count in zip(selected_clusters, count_list):\n",
    "        result_list.extend([cluster] * count)    \n",
    "\n",
    "    return result_list"
   ]
  },
  {
   "cell_type": "code",
   "execution_count": null,
   "id": "0d7e42ef-dc69-4fc1-ba81-05545f00ef10",
   "metadata": {},
   "outputs": [],
   "source": [
    "for rep in range(1, 11):\n",
    "    list1 = ['Layer1', 'Layer2', 'Layer3', 'Layer4', 'Layer5', 'Layer6', 'WM']\n",
    "    list2 = generate_list(list1, 3) # num in [2, 3, 4, 5, 6]\n",
    "    print(\"list2:\", list2)\n",
    "    \n",
    "    test_adata = adata.copy()\n",
    "    test_adata.obs['sim_truth'] = test_adata.obs['ground_truth']\n",
    "    for i in range(len(list1)):\n",
    "        test_adata.obs.loc[test_adata.obs['ground_truth'] == list1[i], 'sim_truth'] = list2[i]\n",
    "\n",
    "    train_adata = adata.copy()\n",
    "    drop_cluter = list(set(list1) - set(list2))\n",
    "    for i in range(len(drop_cluter)):\n",
    "        train_adata = train_adata[train_adata.obs[\"ground_truth\"] != drop_cluter[i]]    \n",
    "        \n",
    "    generate_sc_meta, generate_sc_data = model.load_vae_and_generate_cell(\n",
    "        sc_adata=train_adata,\n",
    "        celltype_key='ground_truth',\n",
    "        cell_key='spot',\n",
    "        target_num=dict(test_adata.obs.sim_truth.value_counts()),\n",
    "        hidden_size=128,\n",
    "        load_path=\"./DLPFC_151673train.pth\",\n",
    "        used_device='cuda:0')\n",
    "    generate_sc_data, generate_sc_meta = model.generate_pattern_reference(\n",
    "            sc_adata=test_adata,\n",
    "            generate_sc_data=generate_sc_data,\n",
    "            generate_sc_meta=generate_sc_meta,\n",
    "            celltype_key='sim_truth',\n",
    "            spatial_key=['imagecol', 'imagerow'],\n",
    "            cost_metric='sqeuclidean')\n",
    "    \n",
    "    new_adata = sc.AnnData(generate_sc_data.T)\n",
    "    new_adata.var_names_make_unique()\n",
    "    new_adata.obs = generate_sc_meta\n",
    "    coor_df = new_adata.obs[[\"imagecol\",\"imagerow\"]]\n",
    "    new_adata.obsm[\"spatial\"] = coor_df.to_numpy()\n",
    "    new_adata.obs[\"ground_truth\"] = new_adata.obs[\"Cell_type\"]\n",
    "    select_cluter = list(set(list2))\n",
    "    for i in range(len(select_cluter)):\n",
    "        new_adata.obs.loc[new_adata.obs['ground_truth'] == select_cluter[i], 'ground_truth'] = str(i)\n",
    "    sc.pl.embedding(new_adata, basis=\"spatial\", color=\"ground_truth\", show=False)\n",
    "\n",
    "    new_adata.write_h5ad(f\"{save_path}/adata.h5ad\")"
   ]
  }
 ],
 "metadata": {
  "kernelspec": {
   "display_name": "ScCube",
   "language": "python",
   "name": "sccube"
  },
  "language_info": {
   "codemirror_mode": {
    "name": "ipython",
    "version": 3
   },
   "file_extension": ".py",
   "mimetype": "text/x-python",
   "name": "python",
   "nbconvert_exporter": "python",
   "pygments_lexer": "ipython3",
   "version": "3.8.18"
  }
 },
 "nbformat": 4,
 "nbformat_minor": 5
}
